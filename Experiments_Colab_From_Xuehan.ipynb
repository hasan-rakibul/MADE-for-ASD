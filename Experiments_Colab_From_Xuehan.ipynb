{
  "cells": [
    {
      "cell_type": "markdown",
      "metadata": {
        "id": "view-in-github",
        "colab_type": "text"
      },
      "source": [
        "<a href=\"https://colab.research.google.com/github/lxhwww/Autism-Spectrum-Disorder-Diagnosis-with-Ensemble-DNN/blob/main/Experiments.ipynb\" target=\"_parent\"><img src=\"https://colab.research.google.com/assets/colab-badge.svg\" alt=\"Open In Colab\"/></a>"
      ]
    },
    {
      "cell_type": "code",
      "execution_count": null,
      "metadata": {
        "id": "_QnM9Qqa2cM9"
      },
      "outputs": [],
      "source": [
        "from google.colab import drive\n",
        "drive.mount('/content/drive')"
      ]
    },
    {
      "cell_type": "code",
      "source": [
        "import os\n",
        "os.chdir(\"/content/drive/MyDrive/acerta-abide\")"
      ],
      "metadata": {
        "id": "O5hX0Nzgf7fq"
      },
      "execution_count": 2,
      "outputs": []
    },
    {
      "cell_type": "code",
      "execution_count": null,
      "metadata": {
        "id": "3VSco6ae6y1E"
      },
      "outputs": [],
      "source": [
        "!sudo python3 -m pip install aiohttp\n",
        "!pip3 install --upgrade setuptools\n",
        "!pip install -r /content/drive/MyDrive/acerta-abide/requirements.txt\n",
        "!pip install docopt "
      ]
    },
    {
      "cell_type": "code",
      "execution_count": null,
      "metadata": {
        "id": "Kz6mBsIgnX3Y"
      },
      "outputs": [],
      "source": [
        "#use for data download\n",
        "#download_abide.py [--pipeline=cpac] [--strategy=filt_global] [<derivative> ...]\n",
        "!python /content/drive/MyDrive/acerta-abide/download_abide.py"
      ]
    },
    {
      "cell_type": "code",
      "execution_count": null,
      "metadata": {
        "id": "KeNN_hhVhCwd"
      },
      "outputs": [],
      "source": [
        "os.chdir(\"/content/drive/MyDrive/acerta-abide\")"
      ]
    },
    {
      "cell_type": "code",
      "source": [
        "#show the demographic Information of ABIDE I\n",
        "!python pheno_info.py"
      ],
      "metadata": {
        "id": "cWn7u4DDr-pe",
        "colab": {
          "base_uri": "https://localhost:8080/"
        },
        "outputId": "b2679738-2cb1-4922-e140-3e59d648cc3d"
      },
      "execution_count": 7,
      "outputs": [
        {
          "output_type": "stream",
          "name": "stdout",
          "text": [
            "2023-06-06 18:06:36.568086: I tensorflow/core/platform/cpu_feature_guard.cc:182] This TensorFlow binary is optimized to use available CPU instructions in performance-critical operations.\n",
            "To enable the following instructions: AVX2 FMA, in other operations, rebuild TensorFlow with the appropriate compiler flags.\n",
            "2023-06-06 18:06:37.816772: W tensorflow/compiler/tf2tensorrt/utils/py_utils.cc:38] TF-TRT Warning: Could not find TensorRT\n",
            " CALTECH &        27.4 (    10.3) &   -100.0 (     0.0) &   -423.8 (  2318.8)   &  M  15, F   4 &        28.0 (    10.9) &  M  14, F   4 \\\\\n",
            "     CMU &        26.4 (     5.8) &    100.0 (     0.0) &    114.5 (    11.6)   &  M  11, F   3 &        26.8 (     5.7) &  M  10, F   3 \\\\\n",
            "     KKI &        10.0 (     1.4) &     65.3 (    52.5) &     97.9 (    17.5)   &  M  16, F   4 &        10.0 (     1.2) &  M  20, F   8 \\\\\n",
            "  LEUVEN &        17.8 (     5.0) &    100.0 (     0.0) &    -74.0 (   180.5)   &  M  26, F   3 &        18.2 (     5.1) &  M  29, F   5 \\\\\n",
            " MAX_MUN &        26.1 (    14.9) &   -100.0 (     0.0) &   -732.5 (  2854.1)   &  M  21, F   3 &        24.6 (     8.8) &  M  27, F   1 \\\\\n",
            "     NYU &        14.7 (     7.1) &    -93.7 (  1160.3) &    107.1 (    16.4)   &  M  65, F  10 &        15.7 (     6.2) &  M  74, F  26 \\\\\n",
            "    OHSU &        11.4 (     2.2) &    -60.0 (     0.0) &   -736.1 (  2917.1)   &  M  12, F   0 &        10.1 (     1.1) &  M  14, F   0 \\\\\n",
            "    OLIN &        16.5 (     3.4) &    -60.0 (     0.0) &   -951.8 (  3188.2)   &  M  16, F   3 &        16.7 (     3.6) &  M  13, F   2 \\\\\n",
            "    PITT &        19.0 (     7.3) &    -60.0 (     0.0) &    110.2 (    14.6)   &  M  25, F   4 &        18.9 (     6.6) &  M  23, F   4 \\\\\n",
            "     SBL &        35.0 (    10.4) &   -617.3 (  2596.3) &  -6629.6 (  4932.3)   &  M  15, F   0 &        33.7 (     6.6) &  M  15, F   0 \\\\\n",
            "    SDSU &        14.7 (     1.8) &    -60.0 (     0.0) &    111.4 (    18.0)   &  M  13, F   1 &        14.2 (     1.9) &  M  16, F   6 \\\\\n",
            "STANFORD &        10.0 (     1.6) &   -100.0 (     0.0) &    110.7 (    16.1)   &  M  15, F   4 &        10.0 (     1.6) &  M  16, F   4 \\\\\n",
            " TRINITY &        16.8 (     3.2) &    -60.0 (     0.0) &    108.9 (    15.5)   &  M  22, F   0 &        17.1 (     3.8) &  M  25, F   0 \\\\\n",
            "    UCLA &        13.0 (     2.5) &   -100.0 (     0.0) &    100.4 (    13.5)   &  M  48, F   6 &        13.0 (     1.9) &  M  38, F   6 \\\\\n",
            "      UM &        13.2 (     2.4) &    -60.0 (     0.0) &    -47.6 (  1243.9)   &  M  57, F   9 &        14.8 (     3.6) &  M  56, F  18 \\\\\n",
            "     USM &        23.5 (     8.3) &     67.5 (    46.1) &     99.7 (    16.6)   &  M  46, F   0 &        21.3 (     8.4) &  M  25, F   0 \\\\\n",
            "    YALE &        12.7 (     3.0) &    100.0 (     0.0) &     94.6 (    21.6)   &  M  20, F   8 &        12.7 (     2.8) &  M  20, F   8 \\\\\n"
          ]
        }
      ]
    },
    {
      "cell_type": "code",
      "source": [
        "#Data preparation\n",
        "#prepare_data.py [--folds=N] [--whole] [--male] [--threshold] [--leave-site-out] [--NYU-site-out] [<derivative> ...]\n",
        "!python prepare_data.py --leave-site-out cc200 aal ez"
      ],
      "metadata": {
        "id": "l1IXag5c_e8q"
      },
      "execution_count": null,
      "outputs": []
    },
    {
      "cell_type": "code",
      "execution_count": null,
      "metadata": {
        "id": "MtvhmBUb_WIS"
      },
      "outputs": [],
      "source": [
        "#use for train the model\n",
        "#nn.py [--whole] [--male] [--threshold] [--leave-site-out] [<derivative> ...]\n",
        "!rm /content/drive/MyDrive/acerta-abide/data/models/*mlp*\n",
        "!python nn.py --leave-site-out cc200 aal ez"
      ]
    },
    {
      "cell_type": "code",
      "execution_count": 9,
      "metadata": {
        "id": "WUUYOTjWP7VJ",
        "colab": {
          "base_uri": "https://localhost:8080/"
        },
        "outputId": "4e14070f-c239-44ec-faeb-dcc644a79301"
      },
      "outputs": [
        {
          "output_type": "stream",
          "name": "stdout",
          "text": [
            "2023-06-06 18:12:38.120168: I tensorflow/core/platform/cpu_feature_guard.cc:182] This TensorFlow binary is optimized to use available CPU instructions in performance-critical operations.\n",
            "To enable the following instructions: AVX2 FMA, in other operations, rebuild TensorFlow with the appropriate compiler flags.\n",
            "2023-06-06 18:12:39.889241: W tensorflow/compiler/tf2tensorrt/utils/py_utils.cc:38] TF-TRT Warning: Could not find TensorRT\n",
            "['aal_leavesiteout-NYU', 'cc200_leavesiteout-NYU', 'ez_leavesiteout-NYU']\n",
            "aal_leavesiteout-NYU\n",
            "WARNING:tensorflow:From /usr/local/lib/python3.10/dist-packages/tensorflow/python/util/dispatch.py:1176: calling dropout (from tensorflow.python.ops.nn_ops) with keep_prob is deprecated and will be removed in a future version.\n",
            "Instructions for updating:\n",
            "Please use `rate` instead of `keep_prob`. Rate should be set to `rate = 1 - keep_prob`.\n",
            "WARNING:tensorflow:From /usr/local/lib/python3.10/dist-packages/tensorflow/python/util/dispatch.py:1176: softmax_cross_entropy_with_logits (from tensorflow.python.ops.nn_ops) is deprecated and will be removed in a future version.\n",
            "Instructions for updating:\n",
            "\n",
            "Future major versions of TensorFlow will allow gradients to flow\n",
            "into the labels input on backprop by default.\n",
            "\n",
            "See `tf.nn.softmax_cross_entropy_with_logits_v2`.\n",
            "\n",
            "2023-06-06 18:12:43.366832: I tensorflow/compiler/mlir/mlir_graph_optimization_pass.cc:353] MLIR V1 optimization pass is not enabled\n",
            "cc200_leavesiteout-NYU\n",
            "ez_leavesiteout-NYU\n",
            "aaa    index                     Exp  Accuracy  Precision  Recall   F-score  Sensivity  Specificity\n",
            "0      0    aal_leavesiteout-NYU  0.754286   0.702128    0.99  0.821577       0.99     0.440000\n",
            "1      1  cc200_leavesiteout-NYU  0.965714   0.979592    0.96  0.969697       0.96     0.973333\n",
            "2      2     ez_leavesiteout-NYU  0.834286   0.793388    0.96  0.868778       0.96     0.666667\n"
          ]
        }
      ],
      "source": [
        "#nn_evaluate.py [--whole] [--male] [--threshold] [--leave-site-out] [--NYU-site-out] [<derivative> ...]\n",
        "!python nn_evaluate.py --leave-site-out cc200 aal ez"
      ]
    }
  ],
  "metadata": {
    "colab": {
      "provenance": [],
      "gpuType": "T4",
      "include_colab_link": true
    },
    "gpuClass": "standard",
    "kernelspec": {
      "display_name": "Python 3",
      "name": "python3"
    },
    "language_info": {
      "name": "python"
    }
  },
  "nbformat": 4,
  "nbformat_minor": 0
}